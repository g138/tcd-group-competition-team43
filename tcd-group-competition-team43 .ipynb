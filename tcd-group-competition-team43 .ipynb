{
 "cells": [
  {
   "cell_type": "markdown",
   "metadata": {},
   "source": [
    "# Lib"
   ]
  },
  {
   "cell_type": "code",
   "execution_count": 92,
   "metadata": {},
   "outputs": [],
   "source": [
    "import numpy as np\n",
    "import pandas as pd\n",
    "import lightgbm as lgb\n",
    "from sklearn import preprocessing\n",
    "from sklearn.preprocessing import LabelEncoder\n",
    "from sklearn.linear_model import LinearRegression\n",
    "from sklearn.model_selection import train_test_split\n",
    "from sklearn.model_selection import GridSearchCV, cross_val_score, StratifiedKFold, learning_curve, train_test_split, KFold\n",
    "import matplotlib.pyplot as plt\n",
    "import pandas_profiling"
   ]
  },
  {
   "cell_type": "markdown",
   "metadata": {},
   "source": [
    "# Reading CSV Files"
   ]
  },
  {
   "cell_type": "code",
   "execution_count": 93,
   "metadata": {},
   "outputs": [
    {
     "name": "stderr",
     "output_type": "stream",
     "text": [
      "U:\\anaconda3\\lib\\site-packages\\IPython\\core\\interactiveshell.py:3058: DtypeWarning: Columns (2,4) have mixed types. Specify dtype option on import or set low_memory=False.\n",
      "  interactivity=interactivity, compiler=compiler, result=result)\n",
      "U:\\anaconda3\\lib\\site-packages\\IPython\\core\\interactiveshell.py:3058: DtypeWarning: Columns (4) have mixed types. Specify dtype option on import or set low_memory=False.\n",
      "  interactivity=interactivity, compiler=compiler, result=result)\n"
     ]
    }
   ],
   "source": [
    "training = pd.read_csv('tcd-ml-1920-group-income-train.csv')\n",
    "testing = pd.read_csv('tcd-ml-1920-group-income-test.csv')    "
   ]
  },
  {
   "cell_type": "markdown",
   "metadata": {},
   "source": [
    "# Filling N/A\n"
   ]
  },
  {
   "cell_type": "code",
   "execution_count": 7,
   "metadata": {},
   "outputs": [],
   "source": [
    "training[training.columns]=training[training.columns].fillna(training.mode().iloc[0])\n",
    "testing[testing.columns]=testing[testing.columns].fillna(testing.mode().iloc[0])"
   ]
  },
  {
   "cell_type": "markdown",
   "metadata": {},
   "source": [
    "# Data Analysis (by each column)"
   ]
  },
  {
   "cell_type": "code",
   "execution_count": 8,
   "metadata": {},
   "outputs": [
    {
     "data": {
      "text/plain": [
       "male       474240\n",
       "other      252053\n",
       "female     237489\n",
       "unknown     62957\n",
       "f           15031\n",
       "0            6804\n",
       "Name: Gender, dtype: int64"
      ]
     },
     "execution_count": 8,
     "metadata": {},
     "output_type": "execute_result"
    }
   ],
   "source": [
    "training['Gender'].value_counts()"
   ]
  },
  {
   "cell_type": "code",
   "execution_count": 9,
   "metadata": {},
   "outputs": [],
   "source": [
    "training[\"Gender\"] = training[\"Gender\"].replace('f','female')\n",
    "training[\"Gender\"] = training[\"Gender\"].replace('0','unknown')"
   ]
  },
  {
   "cell_type": "code",
   "execution_count": 10,
   "metadata": {},
   "outputs": [],
   "source": [
    "testing[\"Gender\"] = testing[\"Gender\"].replace('f','female')\n",
    "testing[\"Gender\"] = testing[\"Gender\"].replace('0','unknown')"
   ]
  },
  {
   "cell_type": "code",
   "execution_count": 11,
   "metadata": {},
   "outputs": [],
   "source": [
    "training['Housing Situation'] = training['Housing Situation'].astype(str)"
   ]
  },
  {
   "cell_type": "code",
   "execution_count": 12,
   "metadata": {},
   "outputs": [],
   "source": [
    "a = training['Housing Situation'].mode()[0]"
   ]
  },
  {
   "cell_type": "code",
   "execution_count": 13,
   "metadata": {},
   "outputs": [],
   "source": [
    "training['Housing Situation'].replace('nA',a, inplace=True)"
   ]
  },
  {
   "cell_type": "code",
   "execution_count": 14,
   "metadata": {},
   "outputs": [],
   "source": [
    "testing['Housing Situation'] = testing['Housing Situation'].astype(str)"
   ]
  },
  {
   "cell_type": "code",
   "execution_count": 15,
   "metadata": {},
   "outputs": [],
   "source": [
    "a = testing['Housing Situation'].mode()[0]"
   ]
  },
  {
   "cell_type": "code",
   "execution_count": 16,
   "metadata": {},
   "outputs": [],
   "source": [
    "testing['Housing Situation'].replace('nA',a, inplace=True)"
   ]
  },
  {
   "cell_type": "code",
   "execution_count": 17,
   "metadata": {},
   "outputs": [],
   "source": [
    "training['University Degree'].replace('0',training['University Degree'].mode()[0], inplace=True)\n",
    "testing['University Degree'].replace('0',testing['University Degree'].mode()[0], inplace=True)"
   ]
  },
  {
   "cell_type": "code",
   "execution_count": 18,
   "metadata": {},
   "outputs": [],
   "source": [
    "training['Yearly Income in addition to Salary (e.g. Rental Income)'] = training['Yearly Income in addition to Salary (e.g. Rental Income)'].str.replace('([A-Za-z]+)', '')\n",
    "training['Yearly Income in addition to Salary (e.g. Rental Income)'] = pd.to_numeric(training['Yearly Income in addition to Salary (e.g. Rental Income)'],errors='coerce')\n",
    "testing['Yearly Income in addition to Salary (e.g. Rental Income)'] = testing['Yearly Income in addition to Salary (e.g. Rental Income)'].str.replace('([A-Za-z]+)', '')\n",
    "testing['Yearly Income in addition to Salary (e.g. Rental Income)'] = pd.to_numeric(testing['Yearly Income in addition to Salary (e.g. Rental Income)'],errors='coerce')"
   ]
  },
  {
   "cell_type": "code",
   "execution_count": 19,
   "metadata": {},
   "outputs": [],
   "source": [
    "training['Work Experience in Current Job [years]'].replace('#NUM!',training['Work Experience in Current Job [years]'].mode()[0], inplace=True)\n",
    "testing['Work Experience in Current Job [years]'].replace('#NUM!',testing['Work Experience in Current Job [years]'].mode()[0], inplace=True)"
   ]
  },
  {
   "cell_type": "code",
   "execution_count": 20,
   "metadata": {},
   "outputs": [],
   "source": [
    "training['Work Experience in Current Job [years]'] = pd.to_numeric(training['Work Experience in Current Job [years]'],errors='coerce')"
   ]
  },
  {
   "cell_type": "code",
   "execution_count": 21,
   "metadata": {},
   "outputs": [],
   "source": [
    "testing['Work Experience in Current Job [years]'] = pd.to_numeric(testing['Work Experience in Current Job [years]'],errors='coerce')"
   ]
  },
  {
   "cell_type": "code",
   "execution_count": 22,
   "metadata": {},
   "outputs": [],
   "source": [
    "training[training.columns]=training[training.columns].fillna(training.mode().iloc[0])\n",
    "testing[testing.columns]=testing[testing.columns].fillna(testing.mode().iloc[0])"
   ]
  },
  {
   "cell_type": "code",
   "execution_count": 24,
   "metadata": {},
   "outputs": [],
   "source": [
    "training['flag'] = 1\n",
    "testing['flag'] = 0"
   ]
  },
  {
   "cell_type": "markdown",
   "metadata": {},
   "source": [
    "# Concatinating Train and Testing"
   ]
  },
  {
   "cell_type": "code",
   "execution_count": 25,
   "metadata": {},
   "outputs": [],
   "source": [
    "data = pd.concat([training, testing], ignore_index=True)"
   ]
  },
  {
   "cell_type": "markdown",
   "metadata": {},
   "source": [
    "# Checking Data Types"
   ]
  },
  {
   "cell_type": "code",
   "execution_count": 27,
   "metadata": {},
   "outputs": [
    {
     "data": {
      "text/plain": [
       "Instance                                                      int64\n",
       "Year of Record                                              float64\n",
       "Housing Situation                                            object\n",
       "Crime Level in the City of Employement                        int64\n",
       "Work Experience in Current Job [years]                      float64\n",
       "Satisfation with employer                                    object\n",
       "Gender                                                       object\n",
       "Age                                                           int64\n",
       "Country                                                      object\n",
       "Size of City                                                  int64\n",
       "Profession                                                   object\n",
       "University Degree                                            object\n",
       "Wears Glasses                                                 int64\n",
       "Hair Color                                                   object\n",
       "Body Height [cm]                                              int64\n",
       "Yearly Income in addition to Salary (e.g. Rental Income)    float64\n",
       "Total Yearly Income [EUR]                                   float64\n",
       "flag                                                          int64\n",
       "dtype: object"
      ]
     },
     "execution_count": 27,
     "metadata": {},
     "output_type": "execute_result"
    }
   ],
   "source": [
    "data.dtypes"
   ]
  },
  {
   "cell_type": "markdown",
   "metadata": {},
   "source": [
    "# Drop unnecessary column"
   ]
  },
  {
   "cell_type": "code",
   "execution_count": 28,
   "metadata": {},
   "outputs": [],
   "source": [
    "training.drop(columns=['Hair Color'], inplace=True)"
   ]
  },
  {
   "cell_type": "code",
   "execution_count": 29,
   "metadata": {},
   "outputs": [],
   "source": [
    "testing.drop(columns=['Hair Color'], inplace=True)"
   ]
  },
  {
   "cell_type": "markdown",
   "metadata": {},
   "source": [
    "# Applying Encoders"
   ]
  },
  {
   "cell_type": "markdown",
   "metadata": {},
   "source": [
    "## Label Encoder"
   ]
  },
  {
   "cell_type": "code",
   "execution_count": 30,
   "metadata": {},
   "outputs": [
    {
     "name": "stdout",
     "output_type": "stream",
     "text": [
      "Housing Situation\n",
      "Satisfation with employer\n",
      "Gender\n",
      "Country\n",
      "Profession\n",
      "University Degree\n",
      "Hair Color\n"
     ]
    }
   ],
   "source": [
    "for i in data.dtypes[data.dtypes == 'object'].index.tolist():\n",
    "    print(i)\n",
    "    featureLE = LabelEncoder()\n",
    "    featureLE.fit(data[i].unique().astype(str))\n",
    "    data[i] = featureLE.transform(data[i].astype(str))"
   ]
  },
  {
   "cell_type": "markdown",
   "metadata": {},
   "source": [
    "## Target Encoder"
   ]
  },
  {
   "cell_type": "code",
   "execution_count": 133,
   "metadata": {
    "scrolled": true
   },
   "outputs": [
    {
     "name": "stdout",
     "output_type": "stream",
     "text": [
      "Housing Situation\n",
      "Satisfation with employer\n",
      "Gender\n",
      "Country\n",
      "Profession\n",
      "University Degree\n",
      "Hair Color\n"
     ]
    }
   ],
   "source": [
    "for i in data.dtypes[data.dtypes == 'object'].index.tolist():\n",
    "    print(i)\n",
    "    grp_hs = data.groupby(i)[\"Total Yearly Income [EUR]\"].agg(\"mean\")\n",
    "    data[i] = data[i].map(grp_hs) "
   ]
  },
  {
   "cell_type": "markdown",
   "metadata": {},
   "source": [
    "# Displaying the Data"
   ]
  },
  {
   "cell_type": "code",
   "execution_count": 32,
   "metadata": {},
   "outputs": [],
   "source": [
    "data.drop(columns=['Hair Color'], inplace=True)"
   ]
  },
  {
   "cell_type": "code",
   "execution_count": 33,
   "metadata": {},
   "outputs": [],
   "source": [
    "data.drop(columns=['Instance'], inplace=True)"
   ]
  },
  {
   "cell_type": "code",
   "execution_count": 76,
   "metadata": {},
   "outputs": [
    {
     "data": {
      "text/html": [
       "<div>\n",
       "<style scoped>\n",
       "    .dataframe tbody tr th:only-of-type {\n",
       "        vertical-align: middle;\n",
       "    }\n",
       "\n",
       "    .dataframe tbody tr th {\n",
       "        vertical-align: top;\n",
       "    }\n",
       "\n",
       "    .dataframe thead th {\n",
       "        text-align: right;\n",
       "    }\n",
       "</style>\n",
       "<table border=\"1\" class=\"dataframe\">\n",
       "  <thead>\n",
       "    <tr style=\"text-align: right;\">\n",
       "      <th></th>\n",
       "      <th>Year of Record</th>\n",
       "      <th>Housing Situation</th>\n",
       "      <th>Crime Level in the City of Employement</th>\n",
       "      <th>Work Experience in Current Job [years]</th>\n",
       "      <th>Satisfation with employer</th>\n",
       "      <th>Gender</th>\n",
       "      <th>Age</th>\n",
       "      <th>Country</th>\n",
       "      <th>Size of City</th>\n",
       "      <th>Profession</th>\n",
       "      <th>University Degree</th>\n",
       "      <th>Wears Glasses</th>\n",
       "      <th>Body Height [cm]</th>\n",
       "      <th>Yearly Income in addition to Salary (e.g. Rental Income)</th>\n",
       "      <th>Total Yearly Income [EUR]</th>\n",
       "      <th>flag</th>\n",
       "    </tr>\n",
       "  </thead>\n",
       "  <tbody>\n",
       "    <tr>\n",
       "      <td>0</td>\n",
       "      <td>1940.0</td>\n",
       "      <td>0</td>\n",
       "      <td>33</td>\n",
       "      <td>17.0</td>\n",
       "      <td>3</td>\n",
       "      <td>2</td>\n",
       "      <td>45</td>\n",
       "      <td>1</td>\n",
       "      <td>25179</td>\n",
       "      <td>610</td>\n",
       "      <td>2</td>\n",
       "      <td>1</td>\n",
       "      <td>182</td>\n",
       "      <td>0.0</td>\n",
       "      <td>6182.05</td>\n",
       "      <td>1</td>\n",
       "    </tr>\n",
       "    <tr>\n",
       "      <td>1</td>\n",
       "      <td>1940.0</td>\n",
       "      <td>0</td>\n",
       "      <td>25</td>\n",
       "      <td>4.9</td>\n",
       "      <td>3</td>\n",
       "      <td>0</td>\n",
       "      <td>17</td>\n",
       "      <td>1</td>\n",
       "      <td>2278204</td>\n",
       "      <td>622</td>\n",
       "      <td>2</td>\n",
       "      <td>0</td>\n",
       "      <td>172</td>\n",
       "      <td>0.0</td>\n",
       "      <td>6819.69</td>\n",
       "      <td>1</td>\n",
       "    </tr>\n",
       "    <tr>\n",
       "      <td>2</td>\n",
       "      <td>1940.0</td>\n",
       "      <td>0</td>\n",
       "      <td>34</td>\n",
       "      <td>21.0</td>\n",
       "      <td>3</td>\n",
       "      <td>0</td>\n",
       "      <td>48</td>\n",
       "      <td>1</td>\n",
       "      <td>822134</td>\n",
       "      <td>1193</td>\n",
       "      <td>0</td>\n",
       "      <td>0</td>\n",
       "      <td>144</td>\n",
       "      <td>0.0</td>\n",
       "      <td>8663.53</td>\n",
       "      <td>1</td>\n",
       "    </tr>\n",
       "    <tr>\n",
       "      <td>3</td>\n",
       "      <td>1940.0</td>\n",
       "      <td>0</td>\n",
       "      <td>70</td>\n",
       "      <td>18.0</td>\n",
       "      <td>0</td>\n",
       "      <td>0</td>\n",
       "      <td>42</td>\n",
       "      <td>2</td>\n",
       "      <td>59477</td>\n",
       "      <td>1007</td>\n",
       "      <td>2</td>\n",
       "      <td>1</td>\n",
       "      <td>152</td>\n",
       "      <td>0.0</td>\n",
       "      <td>2400.64</td>\n",
       "      <td>1</td>\n",
       "    </tr>\n",
       "    <tr>\n",
       "      <td>4</td>\n",
       "      <td>1940.0</td>\n",
       "      <td>0</td>\n",
       "      <td>51</td>\n",
       "      <td>8.0</td>\n",
       "      <td>1</td>\n",
       "      <td>2</td>\n",
       "      <td>15</td>\n",
       "      <td>2</td>\n",
       "      <td>23494</td>\n",
       "      <td>760</td>\n",
       "      <td>1</td>\n",
       "      <td>1</td>\n",
       "      <td>180</td>\n",
       "      <td>0.0</td>\n",
       "      <td>2816.18</td>\n",
       "      <td>1</td>\n",
       "    </tr>\n",
       "  </tbody>\n",
       "</table>\n",
       "</div>"
      ],
      "text/plain": [
       "   Year of Record  Housing Situation  Crime Level in the City of Employement  \\\n",
       "0          1940.0                  0                                      33   \n",
       "1          1940.0                  0                                      25   \n",
       "2          1940.0                  0                                      34   \n",
       "3          1940.0                  0                                      70   \n",
       "4          1940.0                  0                                      51   \n",
       "\n",
       "   Work Experience in Current Job [years]  Satisfation with employer  Gender  \\\n",
       "0                                    17.0                          3       2   \n",
       "1                                     4.9                          3       0   \n",
       "2                                    21.0                          3       0   \n",
       "3                                    18.0                          0       0   \n",
       "4                                     8.0                          1       2   \n",
       "\n",
       "   Age  Country  Size of City  Profession  University Degree  Wears Glasses  \\\n",
       "0   45        1         25179         610                  2              1   \n",
       "1   17        1       2278204         622                  2              0   \n",
       "2   48        1        822134        1193                  0              0   \n",
       "3   42        2         59477        1007                  2              1   \n",
       "4   15        2         23494         760                  1              1   \n",
       "\n",
       "   Body Height [cm]  Yearly Income in addition to Salary (e.g. Rental Income)  \\\n",
       "0               182                                                0.0          \n",
       "1               172                                                0.0          \n",
       "2               144                                                0.0          \n",
       "3               152                                                0.0          \n",
       "4               180                                                0.0          \n",
       "\n",
       "   Total Yearly Income [EUR]  flag  \n",
       "0                    6182.05     1  \n",
       "1                    6819.69     1  \n",
       "2                    8663.53     1  \n",
       "3                    2400.64     1  \n",
       "4                    2816.18     1  "
      ]
     },
     "execution_count": 76,
     "metadata": {},
     "output_type": "execute_result"
    }
   ],
   "source": [
    "data.head()"
   ]
  },
  {
   "cell_type": "markdown",
   "metadata": {},
   "source": [
    "# Dividing the Training and Testing data"
   ]
  },
  {
   "cell_type": "code",
   "execution_count": 88,
   "metadata": {},
   "outputs": [],
   "source": [
    "XTrain = data[data['flag'] == 1]\n",
    "XTest = data[data['flag'] == 0]"
   ]
  },
  {
   "cell_type": "code",
   "execution_count": 89,
   "metadata": {},
   "outputs": [],
   "source": [
    "XTrain_final = XTrain.drop(columns=['flag','Total Yearly Income [EUR]'])\n",
    "XTest_final = XTest.drop(columns=['flag','Total Yearly Income [EUR]'])"
   ]
  },
  {
   "cell_type": "code",
   "execution_count": 90,
   "metadata": {},
   "outputs": [],
   "source": [
    "YTrain_final = XTrain['Total Yearly Income [EUR]']"
   ]
  },
  {
   "cell_type": "code",
   "execution_count": 91,
   "metadata": {},
   "outputs": [],
   "source": [
    "xTrain,xValidation,yTrain,yValidation = train_test_split(XTrain_final,YTrain_final,test_size=0.2,random_state=341)    "
   ]
  },
  {
   "cell_type": "markdown",
   "metadata": {},
   "source": [
    "# Applying LightGBM"
   ]
  },
  {
   "cell_type": "code",
   "execution_count": 82,
   "metadata": {},
   "outputs": [],
   "source": [
    "d_train = lgb.Dataset(xTrain, label=yTrain)"
   ]
  },
  {
   "cell_type": "code",
   "execution_count": 83,
   "metadata": {},
   "outputs": [],
   "source": [
    "params = {'max_depth': 20, 'learning_rate': 0.04, \"boosting\": \"gbdt\", \"bagging_seed\": 11, \"metric\": 'mae', \"verbosity\": -1, 'categorical_features':'auto'}"
   ]
  },
  {
   "cell_type": "code",
   "execution_count": 61,
   "metadata": {},
   "outputs": [],
   "source": [
    "lab_enc = preprocessing.LabelEncoder()\n",
    "yTrain_ = lab_enc.fit_transform(yTrain)\n",
    "yValidation_ = lab_enc.fit_transform(yValidation)"
   ]
  },
  {
   "cell_type": "code",
   "execution_count": 84,
   "metadata": {},
   "outputs": [],
   "source": [
    "clf = lgb.train(params, d_train, 30000)"
   ]
  },
  {
   "cell_type": "code",
   "execution_count": 85,
   "metadata": {},
   "outputs": [],
   "source": [
    "y_predicted = clf.predict(xValidation)"
   ]
  },
  {
   "cell_type": "code",
   "execution_count": 86,
   "metadata": {},
   "outputs": [
    {
     "data": {
      "text/plain": [
       "17372.805312944267"
      ]
     },
     "execution_count": 86,
     "metadata": {},
     "output_type": "execute_result"
    }
   ],
   "source": [
    "mean_absolute_error(yValidation, y_predicted)"
   ]
  },
  {
   "cell_type": "code",
   "execution_count": 87,
   "metadata": {},
   "outputs": [
    {
     "data": {
      "image/png": "[encoded data removed]",
      "text/plain": [
       "<Figure size 360x360 with 1 Axes>"
      ]
     },
     "metadata": {
      "needs_background": "light"
     },
     "output_type": "display_data"
    }
   ],
   "source": [
    "lgb.plot_importance(clf)\n",
    "plt.rcParams['figure.figsize'] = [5, 5]\n",
    "plt.show()"
   ]
  },
  {
   "cell_type": "markdown",
   "metadata": {},
   "source": [
    "# Predicting on Test Data and Saving Files"
   ]
  },
  {
   "cell_type": "code",
   "execution_count": 75,
   "metadata": {},
   "outputs": [],
   "source": [
    "y_predicted = clf.predict(XTest_final)\n",
    "\n",
    "sub = pd.read_csv('tcd-ml-1920-group-income-submission.csv')\n",
    "\n",
    "sub['Total Yearly Income [EUR]'] = y_predicted\n",
    "\n",
    "sub.to_csv('_ML2.csv',index=False)"
   ]
  },
  {
   "cell_type": "code",
   "execution_count": null,
   "metadata": {},
   "outputs": [],
   "source": []
  }
 ],
 "metadata": {
  "kernelspec": {
   "display_name": "Python 3",
   "language": "python",
   "name": "python3"
  },
  "language_info": {
   "codemirror_mode": {
    "name": "ipython",
    "version": 3
   },
   "file_extension": ".py",
   "mimetype": "text/x-python",
   "name": "python",
   "nbconvert_exporter": "python",
   "pygments_lexer": "ipython3",
   "version": "3.7.4"
  }
 },
 "nbformat": 4,
 "nbformat_minor": 2
}
